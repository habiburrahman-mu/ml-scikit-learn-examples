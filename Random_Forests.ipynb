{
  "nbformat": 4,
  "nbformat_minor": 0,
  "metadata": {
    "colab": {
      "name": "Random Forests.ipynb",
      "provenance": [],
      "collapsed_sections": [],
      "toc_visible": true
    },
    "kernelspec": {
      "name": "python3",
      "display_name": "Python 3"
    },
    "language_info": {
      "name": "python"
    }
  },
  "cells": [
    {
      "cell_type": "markdown",
      "metadata": {
        "id": "ZAd09GIOGDIK"
      },
      "source": [
        "#### Ensemble methods\n",
        "\n",
        "The goal of ensemble methods is to combine the predictions of\n",
        "\n",
        "**several base estimators** built with a given learning algorithm\n",
        "\n",
        "in order to\n",
        "\n",
        "improve **generalizability** or **robustness** over a single estimator.\n",
        "\n",
        "https://scikit-learn.org/stable/modules/ensemble.html"
      ]
    },
    {
      "cell_type": "markdown",
      "metadata": {
        "id": "HorJNwT_IESg"
      },
      "source": [
        "### Random Forests\n",
        "\n",
        "A forest is comprised of trees. It is said that the more trees it has, the more robust a forest is. Random forests creates decision trees on randomly selected data samples, gets prediction from each tree and selects the best solution by means of voting. It also provides a pretty good indicator of the feature importance.\n",
        "\n",
        "https://www.datacamp.com/community/tutorials/random-forests-classifier-python"
      ]
    },
    {
      "cell_type": "code",
      "metadata": {
        "id": "2V315E5VIUQg"
      },
      "source": [
        "!pip install scikit-learn"
      ],
      "execution_count": null,
      "outputs": []
    },
    {
      "cell_type": "code",
      "metadata": {
        "colab": {
          "base_uri": "https://localhost:8080/"
        },
        "id": "oe9s5tz-1EJY",
        "outputId": "8dfede29-1c17-4d9d-f675-8d583dd11756"
      },
      "source": [
        "# check scikit-learn version\n",
        "import sklearn\n",
        "print(sklearn.__version__)"
      ],
      "execution_count": null,
      "outputs": [
        {
          "output_type": "stream",
          "text": [
            "0.22.2.post1\n"
          ],
          "name": "stdout"
        }
      ]
    },
    {
      "cell_type": "markdown",
      "metadata": {
        "id": "5EwRaXAzWBYk"
      },
      "source": [
        "We use sinthetic data, generated using scikit-learn"
      ]
    },
    {
      "cell_type": "code",
      "metadata": {
        "colab": {
          "base_uri": "https://localhost:8080/"
        },
        "id": "HlBfjeC4INFQ",
        "outputId": "969036d6-ccbb-47fa-a547-b7c857f11d6c"
      },
      "source": [
        "# Generate test classification dataset: Binary (2 classes)\n",
        "\n",
        "from sklearn.datasets import make_classification\n",
        "\n",
        "# define dataset\n",
        "X, y = make_classification(n_samples=1000, n_features=20, n_informative=15, n_redundant=5, random_state=77)\n",
        "\n",
        "# summarize the dataset\n",
        "print(X.shape, y.shape)"
      ],
      "execution_count": null,
      "outputs": [
        {
          "output_type": "stream",
          "text": [
            "(1000, 20) (1000,)\n"
          ],
          "name": "stdout"
        }
      ]
    },
    {
      "cell_type": "code",
      "metadata": {
        "colab": {
          "base_uri": "https://localhost:8080/"
        },
        "id": "5k1GhOzsNXca",
        "outputId": "88b2a410-3f81-400c-a82c-3d086037243a"
      },
      "source": [
        "print(\"Labels:\", y[0:10])"
      ],
      "execution_count": null,
      "outputs": [
        {
          "output_type": "stream",
          "text": [
            "Labels: [1 1 0 0 1 0 0 0 1 0]\n"
          ],
          "name": "stdout"
        }
      ]
    },
    {
      "cell_type": "markdown",
      "metadata": {
        "id": "VLF7lXhsJlxn"
      },
      "source": [
        "Classification using Random Forests:"
      ]
    },
    {
      "cell_type": "code",
      "metadata": {
        "colab": {
          "base_uri": "https://localhost:8080/"
        },
        "id": "FwUz3521I-ni",
        "outputId": "8d77c37b-2e9a-4327-a6e7-bde5524f666c"
      },
      "source": [
        "# evaluate random forest algorithm for classification\n",
        "\n",
        "from numpy import mean\n",
        "from numpy import std\n",
        "\n",
        "from sklearn.model_selection import cross_val_score\n",
        "from sklearn.model_selection import RepeatedStratifiedKFold\n",
        "from sklearn.ensemble import RandomForestClassifier\n",
        "\n",
        "# define the model\n",
        "model = RandomForestClassifier(n_estimators=200)\n",
        "\n",
        "# evaluate the model\n",
        "cv = RepeatedStratifiedKFold(n_splits=10, n_repeats=3, random_state=77)\n",
        "\n",
        "n_scores = cross_val_score(model, X, y, scoring='accuracy', cv=cv, n_jobs=-1, error_score='raise')\n",
        "\n",
        "# report performance\n",
        "print('Accuracy: %.3f (SD: %.3f)' % (mean(n_scores), std(n_scores)))"
      ],
      "execution_count": null,
      "outputs": [
        {
          "output_type": "stream",
          "text": [
            "Accuracy: 0.881 (SD: 0.040)\n"
          ],
          "name": "stdout"
        }
      ]
    },
    {
      "cell_type": "markdown",
      "metadata": {
        "id": "IZ2QPXFPLhom"
      },
      "source": [
        "### Overall code to get PREDICTION from Random Forests\n",
        "Classification Model with 200 Trees"
      ]
    },
    {
      "cell_type": "code",
      "metadata": {
        "colab": {
          "base_uri": "https://localhost:8080/"
        },
        "id": "ZrGXATG8JUPv",
        "outputId": "5c769a17-7980-45aa-a952-9733d5a21a3e"
      },
      "source": [
        "# make predictions using random forest for classification\n",
        "from sklearn.datasets import make_classification\n",
        "from sklearn.ensemble import RandomForestClassifier\n",
        "\n",
        "# define dataset\n",
        "X, y = make_classification(n_samples=1000, n_features=20, n_informative=15, n_redundant=5, random_state=9)\n",
        "\n",
        "# define the model\n",
        "model = RandomForestClassifier(n_estimators=200)\n",
        "\n",
        "# fit the model on the whole dataset\n",
        "model.fit(X, y)\n",
        "\n",
        "# make a single prediction\n",
        "# row with 20 features\n",
        "row = [[-8.52381793,5.24451077,-12.14967704,-2.92949242,0.99314133,0.67326595,-0.38657932,1.27955683,-0.60712621,3.20807316,0.60504151,-1.38706415,8.92444588,-7.43027595,-2.33653219,1.10358169,0.21547782,1.05057966,0.6975331,0.26076035]]\n",
        "\n",
        "yhat = model.predict(row)\n",
        "\n",
        "print('Predicted Class: %d' % yhat[0])"
      ],
      "execution_count": null,
      "outputs": [
        {
          "output_type": "stream",
          "text": [
            "Predicted Class: 1\n"
          ],
          "name": "stdout"
        }
      ]
    },
    {
      "cell_type": "markdown",
      "metadata": {
        "id": "RnhMBCcaMLJz"
      },
      "source": [
        "Regression using Random Forests:"
      ]
    },
    {
      "cell_type": "code",
      "metadata": {
        "colab": {
          "base_uri": "https://localhost:8080/"
        },
        "id": "F3UQCDZtL2da",
        "outputId": "e5f52882-ad82-49ce-d8be-b4985c890f66"
      },
      "source": [
        "# Generate test regression dataset\n",
        "from sklearn.datasets import make_regression\n",
        "\n",
        "# define dataset\n",
        "X, y = make_regression(n_samples=1000, n_features=20, n_informative=15, noise=0.1, random_state=77)\n",
        "\n",
        "# summarize the dataset\n",
        "print(X.shape, y.shape)"
      ],
      "execution_count": null,
      "outputs": [
        {
          "output_type": "stream",
          "text": [
            "(1000, 20) (1000,)\n"
          ],
          "name": "stdout"
        }
      ]
    },
    {
      "cell_type": "code",
      "metadata": {
        "colab": {
          "base_uri": "https://localhost:8080/",
          "height": 320
        },
        "id": "KX1hMIJ4MUXo",
        "outputId": "7b3d65b9-b2b9-46f7-efe9-c39915063957"
      },
      "source": [
        "import pandas as pd\n",
        "\n",
        "pd.DataFrame(X).describe()"
      ],
      "execution_count": null,
      "outputs": [
        {
          "output_type": "execute_result",
          "data": {
            "text/html": [
              "<div>\n",
              "<style scoped>\n",
              "    .dataframe tbody tr th:only-of-type {\n",
              "        vertical-align: middle;\n",
              "    }\n",
              "\n",
              "    .dataframe tbody tr th {\n",
              "        vertical-align: top;\n",
              "    }\n",
              "\n",
              "    .dataframe thead th {\n",
              "        text-align: right;\n",
              "    }\n",
              "</style>\n",
              "<table border=\"1\" class=\"dataframe\">\n",
              "  <thead>\n",
              "    <tr style=\"text-align: right;\">\n",
              "      <th></th>\n",
              "      <th>0</th>\n",
              "      <th>1</th>\n",
              "      <th>2</th>\n",
              "      <th>3</th>\n",
              "      <th>4</th>\n",
              "      <th>5</th>\n",
              "      <th>6</th>\n",
              "      <th>7</th>\n",
              "      <th>8</th>\n",
              "      <th>9</th>\n",
              "      <th>10</th>\n",
              "      <th>11</th>\n",
              "      <th>12</th>\n",
              "      <th>13</th>\n",
              "      <th>14</th>\n",
              "      <th>15</th>\n",
              "      <th>16</th>\n",
              "      <th>17</th>\n",
              "      <th>18</th>\n",
              "      <th>19</th>\n",
              "    </tr>\n",
              "  </thead>\n",
              "  <tbody>\n",
              "    <tr>\n",
              "      <th>count</th>\n",
              "      <td>1000.000000</td>\n",
              "      <td>1000.000000</td>\n",
              "      <td>1000.000000</td>\n",
              "      <td>1000.000000</td>\n",
              "      <td>1000.000000</td>\n",
              "      <td>1000.000000</td>\n",
              "      <td>1000.000000</td>\n",
              "      <td>1000.000000</td>\n",
              "      <td>1000.000000</td>\n",
              "      <td>1000.000000</td>\n",
              "      <td>1000.000000</td>\n",
              "      <td>1000.000000</td>\n",
              "      <td>1000.000000</td>\n",
              "      <td>1000.000000</td>\n",
              "      <td>1000.000000</td>\n",
              "      <td>1000.000000</td>\n",
              "      <td>1000.000000</td>\n",
              "      <td>1000.000000</td>\n",
              "      <td>1000.000000</td>\n",
              "      <td>1000.000000</td>\n",
              "    </tr>\n",
              "    <tr>\n",
              "      <th>mean</th>\n",
              "      <td>0.001680</td>\n",
              "      <td>0.047861</td>\n",
              "      <td>0.042808</td>\n",
              "      <td>0.071955</td>\n",
              "      <td>-0.000820</td>\n",
              "      <td>0.039463</td>\n",
              "      <td>0.061421</td>\n",
              "      <td>-0.000722</td>\n",
              "      <td>-0.022747</td>\n",
              "      <td>-0.012499</td>\n",
              "      <td>-0.007010</td>\n",
              "      <td>-0.053479</td>\n",
              "      <td>-0.006119</td>\n",
              "      <td>-0.031879</td>\n",
              "      <td>-0.019487</td>\n",
              "      <td>-0.036208</td>\n",
              "      <td>-0.002341</td>\n",
              "      <td>-0.026358</td>\n",
              "      <td>-0.047083</td>\n",
              "      <td>0.000396</td>\n",
              "    </tr>\n",
              "    <tr>\n",
              "      <th>std</th>\n",
              "      <td>1.010132</td>\n",
              "      <td>1.003630</td>\n",
              "      <td>0.973507</td>\n",
              "      <td>0.978180</td>\n",
              "      <td>1.031268</td>\n",
              "      <td>1.010109</td>\n",
              "      <td>1.015928</td>\n",
              "      <td>1.009602</td>\n",
              "      <td>0.987956</td>\n",
              "      <td>1.011752</td>\n",
              "      <td>1.023893</td>\n",
              "      <td>0.986319</td>\n",
              "      <td>0.994881</td>\n",
              "      <td>1.001909</td>\n",
              "      <td>0.992683</td>\n",
              "      <td>0.965033</td>\n",
              "      <td>1.000694</td>\n",
              "      <td>1.038032</td>\n",
              "      <td>1.019816</td>\n",
              "      <td>1.033563</td>\n",
              "    </tr>\n",
              "    <tr>\n",
              "      <th>min</th>\n",
              "      <td>-3.685407</td>\n",
              "      <td>-3.661560</td>\n",
              "      <td>-3.186224</td>\n",
              "      <td>-3.078953</td>\n",
              "      <td>-3.431684</td>\n",
              "      <td>-3.480617</td>\n",
              "      <td>-3.670200</td>\n",
              "      <td>-3.069654</td>\n",
              "      <td>-2.983639</td>\n",
              "      <td>-3.713060</td>\n",
              "      <td>-2.987770</td>\n",
              "      <td>-3.456672</td>\n",
              "      <td>-3.403492</td>\n",
              "      <td>-3.223274</td>\n",
              "      <td>-3.102498</td>\n",
              "      <td>-3.241268</td>\n",
              "      <td>-3.067751</td>\n",
              "      <td>-3.450430</td>\n",
              "      <td>-3.331612</td>\n",
              "      <td>-2.742895</td>\n",
              "    </tr>\n",
              "    <tr>\n",
              "      <th>25%</th>\n",
              "      <td>-0.663656</td>\n",
              "      <td>-0.650605</td>\n",
              "      <td>-0.594045</td>\n",
              "      <td>-0.654148</td>\n",
              "      <td>-0.665691</td>\n",
              "      <td>-0.649503</td>\n",
              "      <td>-0.601936</td>\n",
              "      <td>-0.639096</td>\n",
              "      <td>-0.695635</td>\n",
              "      <td>-0.691588</td>\n",
              "      <td>-0.732475</td>\n",
              "      <td>-0.735897</td>\n",
              "      <td>-0.714814</td>\n",
              "      <td>-0.685395</td>\n",
              "      <td>-0.697103</td>\n",
              "      <td>-0.677779</td>\n",
              "      <td>-0.668926</td>\n",
              "      <td>-0.708870</td>\n",
              "      <td>-0.755766</td>\n",
              "      <td>-0.696134</td>\n",
              "    </tr>\n",
              "    <tr>\n",
              "      <th>50%</th>\n",
              "      <td>0.022089</td>\n",
              "      <td>0.047379</td>\n",
              "      <td>0.036484</td>\n",
              "      <td>0.080475</td>\n",
              "      <td>-0.048993</td>\n",
              "      <td>0.023088</td>\n",
              "      <td>0.064363</td>\n",
              "      <td>-0.024170</td>\n",
              "      <td>-0.030177</td>\n",
              "      <td>-0.029074</td>\n",
              "      <td>-0.020065</td>\n",
              "      <td>-0.051578</td>\n",
              "      <td>0.027672</td>\n",
              "      <td>-0.039845</td>\n",
              "      <td>-0.003084</td>\n",
              "      <td>-0.048329</td>\n",
              "      <td>-0.027257</td>\n",
              "      <td>-0.031991</td>\n",
              "      <td>-0.064566</td>\n",
              "      <td>0.008449</td>\n",
              "    </tr>\n",
              "    <tr>\n",
              "      <th>75%</th>\n",
              "      <td>0.708693</td>\n",
              "      <td>0.728104</td>\n",
              "      <td>0.661573</td>\n",
              "      <td>0.757107</td>\n",
              "      <td>0.683045</td>\n",
              "      <td>0.718467</td>\n",
              "      <td>0.748773</td>\n",
              "      <td>0.695651</td>\n",
              "      <td>0.636253</td>\n",
              "      <td>0.689483</td>\n",
              "      <td>0.670109</td>\n",
              "      <td>0.621787</td>\n",
              "      <td>0.638292</td>\n",
              "      <td>0.651914</td>\n",
              "      <td>0.678319</td>\n",
              "      <td>0.632027</td>\n",
              "      <td>0.676456</td>\n",
              "      <td>0.690135</td>\n",
              "      <td>0.638493</td>\n",
              "      <td>0.670833</td>\n",
              "    </tr>\n",
              "    <tr>\n",
              "      <th>max</th>\n",
              "      <td>3.438819</td>\n",
              "      <td>3.368433</td>\n",
              "      <td>2.934838</td>\n",
              "      <td>3.083221</td>\n",
              "      <td>3.667760</td>\n",
              "      <td>3.808858</td>\n",
              "      <td>3.561689</td>\n",
              "      <td>3.309026</td>\n",
              "      <td>3.080305</td>\n",
              "      <td>3.649842</td>\n",
              "      <td>2.902940</td>\n",
              "      <td>3.600465</td>\n",
              "      <td>2.857753</td>\n",
              "      <td>3.556902</td>\n",
              "      <td>2.914743</td>\n",
              "      <td>3.900589</td>\n",
              "      <td>4.073159</td>\n",
              "      <td>2.613220</td>\n",
              "      <td>3.060280</td>\n",
              "      <td>3.448056</td>\n",
              "    </tr>\n",
              "  </tbody>\n",
              "</table>\n",
              "</div>"
            ],
            "text/plain": [
              "                0            1   ...           18           19\n",
              "count  1000.000000  1000.000000  ...  1000.000000  1000.000000\n",
              "mean      0.001680     0.047861  ...    -0.047083     0.000396\n",
              "std       1.010132     1.003630  ...     1.019816     1.033563\n",
              "min      -3.685407    -3.661560  ...    -3.331612    -2.742895\n",
              "25%      -0.663656    -0.650605  ...    -0.755766    -0.696134\n",
              "50%       0.022089     0.047379  ...    -0.064566     0.008449\n",
              "75%       0.708693     0.728104  ...     0.638493     0.670833\n",
              "max       3.438819     3.368433  ...     3.060280     3.448056\n",
              "\n",
              "[8 rows x 20 columns]"
            ]
          },
          "metadata": {
            "tags": []
          },
          "execution_count": 46
        }
      ]
    },
    {
      "cell_type": "code",
      "metadata": {
        "colab": {
          "base_uri": "https://localhost:8080/"
        },
        "id": "FRLQFMYOMjXI",
        "outputId": "699e04a1-4b41-4d68-ed30-0e7ae64ab586"
      },
      "source": [
        "print(\"Labels:\", y[0:5])"
      ],
      "execution_count": null,
      "outputs": [
        {
          "output_type": "stream",
          "text": [
            "Labels: [ 222.53747118   42.24564042  -23.47820771 -182.73759726    5.59466015]\n"
          ],
          "name": "stdout"
        }
      ]
    },
    {
      "cell_type": "code",
      "metadata": {
        "colab": {
          "base_uri": "https://localhost:8080/"
        },
        "id": "WjrKjhkNN3Ez",
        "outputId": "5199ebbd-63e8-4cd4-f564-c2275dc65716"
      },
      "source": [
        "# evaluate random forest ensemble for regression\n",
        "from numpy import mean\n",
        "from numpy import std\n",
        "\n",
        "from sklearn.model_selection import cross_val_score\n",
        "from sklearn.model_selection import RepeatedKFold\n",
        "from sklearn.ensemble import RandomForestRegressor\n",
        "\n",
        "# define the model\n",
        "\n",
        "model = RandomForestRegressor(n_estimators=200)\n",
        "\n",
        "# evaluate the model\n",
        "cv = RepeatedKFold(n_splits=10, n_repeats=3, random_state=1)\n",
        "n_scores = cross_val_score(model, X, y, scoring='neg_mean_absolute_error', cv=cv, n_jobs=-1, error_score='raise')\n",
        "\n",
        "# report performance\n",
        "print('Mean Absolute Error: %.3f (SD: %.3f)' % (mean(n_scores), std(n_scores)))"
      ],
      "execution_count": null,
      "outputs": [
        {
          "output_type": "stream",
          "text": [
            "Mean Absolute Error: -114.204 (SD: 7.973)\n"
          ],
          "name": "stdout"
        }
      ]
    },
    {
      "cell_type": "markdown",
      "metadata": {
        "id": "v32zVenAPL_e"
      },
      "source": [
        "### Overall code to get PREDICTION from Random Forests\n",
        "Regression Model with 200 Trees"
      ]
    },
    {
      "cell_type": "code",
      "metadata": {
        "colab": {
          "base_uri": "https://localhost:8080/"
        },
        "id": "Ji-VzwsSOKBM",
        "outputId": "8da42bc5-9407-4959-a615-cfb8d3d23c78"
      },
      "source": [
        "# random forest for making predictions for regression\n",
        "from sklearn.datasets import make_regression\n",
        "from sklearn.ensemble import RandomForestRegressor\n",
        "\n",
        "# define dataset\n",
        "X, y = make_regression(n_samples=1000, n_features=20, n_informative=15, noise=0.1, random_state=9)\n",
        "\n",
        "# define the model\n",
        "model = RandomForestRegressor(n_estimators=200)\n",
        "\n",
        "# fit the model on the whole dataset\n",
        "model.fit(X, y)\n",
        "\n",
        "# make a single prediction\n",
        "# row with 20 features\n",
        "\n",
        "row = [[-0.89483109,-1.0670149,-0.25448694,-0.53850126,0.21082105,1.37435592,0.71203659,0.73093031,-1.25878104,-2.01656886,0.51906798,0.62767387,0.96250155,1.31410617,-1.25527295,-0.85079036,0.24129757,-0.17571721,-1.11454339,0.36268268]]\n",
        "\n",
        "yhat = model.predict(row)\n",
        "\n",
        "print('Prediction: %d' % yhat[0])"
      ],
      "execution_count": null,
      "outputs": [
        {
          "output_type": "stream",
          "text": [
            "Prediction: 5\n"
          ],
          "name": "stdout"
        }
      ]
    },
    {
      "cell_type": "markdown",
      "metadata": {
        "id": "DyW7aWZUWQQN"
      },
      "source": [
        "## Using Iris Dataset"
      ]
    },
    {
      "cell_type": "code",
      "metadata": {
        "id": "NnpssczsPDvW"
      },
      "source": [
        "from sklearn import datasets\n",
        "\n",
        "iris = datasets.load_iris()"
      ],
      "execution_count": null,
      "outputs": []
    },
    {
      "cell_type": "code",
      "metadata": {
        "colab": {
          "base_uri": "https://localhost:8080/"
        },
        "id": "UeCKnLglWetc",
        "outputId": "c6d98004-151c-4ee1-b2f4-57d739dff682"
      },
      "source": [
        "print(\"Feature Names:\", iris.feature_names)\n",
        "print(\"Label Names:\", iris.target_names)"
      ],
      "execution_count": null,
      "outputs": [
        {
          "output_type": "stream",
          "text": [
            "Feature Names: ['sepal length (cm)', 'sepal width (cm)', 'petal length (cm)', 'petal width (cm)']\n",
            "Label Names: ['setosa' 'versicolor' 'virginica']\n"
          ],
          "name": "stdout"
        }
      ]
    },
    {
      "cell_type": "code",
      "metadata": {
        "colab": {
          "base_uri": "https://localhost:8080/"
        },
        "id": "fnoRswZSWj7k",
        "outputId": "80c973ba-8251-42e6-9e2e-eaf9db9a54a6"
      },
      "source": [
        "# print the iris data (top 5 records)\n",
        "print(iris.data[0:5][0])"
      ],
      "execution_count": null,
      "outputs": [
        {
          "output_type": "stream",
          "text": [
            "[5.1 3.5 1.4 0.2]\n"
          ],
          "name": "stdout"
        }
      ]
    },
    {
      "cell_type": "code",
      "metadata": {
        "colab": {
          "base_uri": "https://localhost:8080/"
        },
        "id": "3hGfQ19TW3JI",
        "outputId": "546990e1-3cee-45d4-ccf7-cbe6b1618ed7"
      },
      "source": [
        "# print the iris labels (0:setosa, 1:versicolor, 2:virginica)\n",
        "print(iris.target[0:10])"
      ],
      "execution_count": null,
      "outputs": [
        {
          "output_type": "stream",
          "text": [
            "[0 0 0 0 0 0 0 0 0 0]\n"
          ],
          "name": "stdout"
        }
      ]
    },
    {
      "cell_type": "code",
      "metadata": {
        "colab": {
          "base_uri": "https://localhost:8080/",
          "height": 206
        },
        "id": "_Rh70wwxXA5r",
        "outputId": "0fbf4425-3d12-466d-c43e-aff9e4b6b1ce"
      },
      "source": [
        "# We can create a DataFrame of the iris dataset\n",
        "\n",
        "import pandas as pd\n",
        "data=pd.DataFrame({\n",
        "    'sepal length':iris.data[:,0],\n",
        "    'sepal width':iris.data[:,1],\n",
        "    'petal length':iris.data[:,2],\n",
        "    'petal width':iris.data[:,3],\n",
        "    'species':iris.target\n",
        "})\n",
        "data.head()"
      ],
      "execution_count": null,
      "outputs": [
        {
          "output_type": "execute_result",
          "data": {
            "text/html": [
              "<div>\n",
              "<style scoped>\n",
              "    .dataframe tbody tr th:only-of-type {\n",
              "        vertical-align: middle;\n",
              "    }\n",
              "\n",
              "    .dataframe tbody tr th {\n",
              "        vertical-align: top;\n",
              "    }\n",
              "\n",
              "    .dataframe thead th {\n",
              "        text-align: right;\n",
              "    }\n",
              "</style>\n",
              "<table border=\"1\" class=\"dataframe\">\n",
              "  <thead>\n",
              "    <tr style=\"text-align: right;\">\n",
              "      <th></th>\n",
              "      <th>sepal length</th>\n",
              "      <th>sepal width</th>\n",
              "      <th>petal length</th>\n",
              "      <th>petal width</th>\n",
              "      <th>species</th>\n",
              "    </tr>\n",
              "  </thead>\n",
              "  <tbody>\n",
              "    <tr>\n",
              "      <th>0</th>\n",
              "      <td>5.1</td>\n",
              "      <td>3.5</td>\n",
              "      <td>1.4</td>\n",
              "      <td>0.2</td>\n",
              "      <td>0</td>\n",
              "    </tr>\n",
              "    <tr>\n",
              "      <th>1</th>\n",
              "      <td>4.9</td>\n",
              "      <td>3.0</td>\n",
              "      <td>1.4</td>\n",
              "      <td>0.2</td>\n",
              "      <td>0</td>\n",
              "    </tr>\n",
              "    <tr>\n",
              "      <th>2</th>\n",
              "      <td>4.7</td>\n",
              "      <td>3.2</td>\n",
              "      <td>1.3</td>\n",
              "      <td>0.2</td>\n",
              "      <td>0</td>\n",
              "    </tr>\n",
              "    <tr>\n",
              "      <th>3</th>\n",
              "      <td>4.6</td>\n",
              "      <td>3.1</td>\n",
              "      <td>1.5</td>\n",
              "      <td>0.2</td>\n",
              "      <td>0</td>\n",
              "    </tr>\n",
              "    <tr>\n",
              "      <th>4</th>\n",
              "      <td>5.0</td>\n",
              "      <td>3.6</td>\n",
              "      <td>1.4</td>\n",
              "      <td>0.2</td>\n",
              "      <td>0</td>\n",
              "    </tr>\n",
              "  </tbody>\n",
              "</table>\n",
              "</div>"
            ],
            "text/plain": [
              "   sepal length  sepal width  petal length  petal width  species\n",
              "0           5.1          3.5           1.4          0.2        0\n",
              "1           4.9          3.0           1.4          0.2        0\n",
              "2           4.7          3.2           1.3          0.2        0\n",
              "3           4.6          3.1           1.5          0.2        0\n",
              "4           5.0          3.6           1.4          0.2        0"
            ]
          },
          "metadata": {
            "tags": []
          },
          "execution_count": 74
        }
      ]
    },
    {
      "cell_type": "code",
      "metadata": {
        "id": "zmprCzrZXThL"
      },
      "source": [
        "from sklearn.model_selection import train_test_split\n",
        "\n",
        "X=data[['sepal length', 'sepal width', 'petal length', 'petal width']]  # Features\n",
        "y=data['species']  # Labels\n",
        "\n",
        "# Split dataset into training set and test set\n",
        "X_train, X_test, y_train, y_test = train_test_split(X, y, test_size=0.3)"
      ],
      "execution_count": null,
      "outputs": []
    },
    {
      "cell_type": "code",
      "metadata": {
        "id": "GTzjtqdDXjdz"
      },
      "source": [
        "#Import Random Forest Model\n",
        "from sklearn.ensemble import RandomForestClassifier\n",
        "\n",
        "#Create a Gaussian Classifier\n",
        "RFM =RandomForestClassifier(n_estimators=50)\n",
        "\n",
        "#Train the model using the training sets y_pred=clf.predict(X_test)\n",
        "RFM.fit(X_train,y_train)\n",
        "\n",
        "y_pred=RFM.predict(X_test)"
      ],
      "execution_count": null,
      "outputs": []
    },
    {
      "cell_type": "code",
      "metadata": {
        "colab": {
          "base_uri": "https://localhost:8080/"
        },
        "id": "fV3sCr8zXnJo",
        "outputId": "832f7ae3-cea9-4579-b9d4-988a30b33fff"
      },
      "source": [
        "from sklearn import metrics\n",
        "print(\"Accuracy: {:.4f}\".format(metrics.accuracy_score(y_test, y_pred)))"
      ],
      "execution_count": null,
      "outputs": [
        {
          "output_type": "stream",
          "text": [
            "Accuracy: 0.9556\n"
          ],
          "name": "stdout"
        }
      ]
    },
    {
      "cell_type": "code",
      "metadata": {
        "colab": {
          "base_uri": "https://localhost:8080/"
        },
        "id": "ANv80NUaXyYZ",
        "outputId": "7b20ada8-4341-47fe-d240-e84da246f8da"
      },
      "source": [
        "print(\"Predicted class:\", RFM.predict([[3, 5, 4, 2]])[0])"
      ],
      "execution_count": null,
      "outputs": [
        {
          "output_type": "stream",
          "text": [
            "Predicted class: 2\n"
          ],
          "name": "stdout"
        }
      ]
    },
    {
      "cell_type": "code",
      "metadata": {
        "colab": {
          "base_uri": "https://localhost:8080/"
        },
        "id": "q3T96D7JX4ja",
        "outputId": "021fef20-4182-45b3-ae38-04ed771a94b1"
      },
      "source": [
        "pd.Series(RFM.feature_importances_,\n",
        "         index=iris.feature_names).sort_values(ascending=False)"
      ],
      "execution_count": null,
      "outputs": [
        {
          "output_type": "execute_result",
          "data": {
            "text/plain": [
              "petal width (cm)     0.558139\n",
              "petal length (cm)    0.331957\n",
              "sepal length (cm)    0.087136\n",
              "sepal width (cm)     0.022768\n",
              "dtype: float64"
            ]
          },
          "metadata": {
            "tags": []
          },
          "execution_count": 138
        }
      ]
    },
    {
      "cell_type": "markdown",
      "metadata": {
        "id": "dGuOLjjeY1FR"
      },
      "source": [
        "As you can see,\n",
        "\n",
        "**sepal length & sepal width**\n",
        "\n",
        "are not so much important.\n",
        "\n",
        "We can build ML model using only two important features."
      ]
    },
    {
      "cell_type": "code",
      "metadata": {
        "id": "cmVGAiwsYP_C"
      },
      "source": [
        "from sklearn.model_selection import train_test_split\n",
        "\n",
        "# Split dataset into features and labels\n",
        "X=data[['petal length', 'petal width',]]\n",
        "y=data['species']\n",
        "\n",
        "# Split dataset into training set and test set\n",
        "X_train, X_test, y_train, y_test = train_test_split(X, y, test_size=0.3, random_state=5) # 70% training and 30% test"
      ],
      "execution_count": null,
      "outputs": []
    },
    {
      "cell_type": "code",
      "metadata": {
        "id": "K9QGb_F_Zix0"
      },
      "source": [
        "#Import Random Forest Model\n",
        "from sklearn.ensemble import RandomForestClassifier\n",
        "\n",
        "#Create a Gaussian Classifier\n",
        "RFM =RandomForestClassifier(n_estimators=1000)\n",
        "\n",
        "#Train the model using the training sets y_pred=clf.predict(X_test)\n",
        "RFM.fit(X_train,y_train)\n",
        "\n",
        "y_pred=RFM.predict(X_test)"
      ],
      "execution_count": null,
      "outputs": []
    },
    {
      "cell_type": "code",
      "metadata": {
        "colab": {
          "base_uri": "https://localhost:8080/"
        },
        "id": "nDUo2zNBZix4",
        "outputId": "a76eba05-e41c-4e34-afce-9242e4029b5e"
      },
      "source": [
        "from sklearn import metrics\n",
        "print(\"Accuracy: {:.4f}\".format(metrics.accuracy_score(y_test, y_pred)))"
      ],
      "execution_count": null,
      "outputs": [
        {
          "output_type": "stream",
          "text": [
            "Accuracy: 0.9778\n"
          ],
          "name": "stdout"
        }
      ]
    },
    {
      "cell_type": "code",
      "metadata": {
        "colab": {
          "base_uri": "https://localhost:8080/"
        },
        "id": "XacDiYNCZix_",
        "outputId": "7a8c1e4f-f740-44ed-a9b3-bac91cc305a6"
      },
      "source": [
        "print(\"Predicted class:\", RFM.predict([[3, 5]])[0])"
      ],
      "execution_count": null,
      "outputs": [
        {
          "output_type": "stream",
          "text": [
            "Predicted class: 2\n"
          ],
          "name": "stdout"
        }
      ]
    },
    {
      "cell_type": "code",
      "metadata": {
        "id": "ccTtpcdBZoUD"
      },
      "source": [
        ""
      ],
      "execution_count": null,
      "outputs": []
    }
  ]
}