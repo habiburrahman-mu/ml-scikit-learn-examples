{
  "nbformat": 4,
  "nbformat_minor": 0,
  "metadata": {
    "colab": {
      "name": "Random Forests.ipynb",
      "provenance": []
    },
    "kernelspec": {
      "name": "python3",
      "display_name": "Python 3"
    },
    "language_info": {
      "name": "python"
    }
  },
  "cells": [
    {
      "cell_type": "markdown",
      "metadata": {
        "id": "ZAd09GIOGDIK"
      },
      "source": [
        "#### Ensemble methods\n",
        "\n",
        "The goal of ensemble methods is to combine the predictions of\n",
        "\n",
        "**several base estimators** built with a given learning algorithm\n",
        "\n",
        "in order to\n",
        "\n",
        "improve **generalizability** or **robustness** over a single estimator.\n",
        "\n",
        "https://scikit-learn.org/stable/modules/ensemble.html"
      ]
    },
    {
      "cell_type": "markdown",
      "metadata": {
        "id": "HorJNwT_IESg"
      },
      "source": [
        "### Random Forests\n",
        "\n",
        "A forest is comprised of trees. It is said that the more trees it has, the more robust a forest is. Random forests creates decision trees on randomly selected data samples, gets prediction from each tree and selects the best solution by means of voting. It also provides a pretty good indicator of the feature importance.\n",
        "\n",
        "https://www.datacamp.com/community/tutorials/random-forests-classifier-python"
      ]
    },
    {
      "cell_type": "code",
      "metadata": {
        "colab": {
          "base_uri": "https://localhost:8080/"
        },
        "id": "2V315E5VIUQg",
        "outputId": "f980df76-00b3-478b-b163-6ac6df6dcdb7"
      },
      "source": [
        "!pip install scikit-learn"
      ],
      "execution_count": 2,
      "outputs": [
        {
          "output_type": "stream",
          "text": [
            "Requirement already satisfied: scikit-learn in /usr/local/lib/python3.7/dist-packages (0.22.2.post1)\n",
            "Requirement already satisfied: scipy>=0.17.0 in /usr/local/lib/python3.7/dist-packages (from scikit-learn) (1.4.1)\n",
            "Requirement already satisfied: joblib>=0.11 in /usr/local/lib/python3.7/dist-packages (from scikit-learn) (1.0.1)\n",
            "Requirement already satisfied: numpy>=1.11.0 in /usr/local/lib/python3.7/dist-packages (from scikit-learn) (1.19.5)\n"
          ],
          "name": "stdout"
        }
      ]
    },
    {
      "cell_type": "code",
      "metadata": {
        "colab": {
          "base_uri": "https://localhost:8080/"
        },
        "id": "oe9s5tz-1EJY",
        "outputId": "134fa8b7-9d5f-48ce-d1d6-6ce034a165ff"
      },
      "source": [
        "# check scikit-learn version\n",
        "import sklearn\n",
        "print(sklearn.__version__)"
      ],
      "execution_count": 1,
      "outputs": [
        {
          "output_type": "stream",
          "text": [
            "0.22.2.post1\n"
          ],
          "name": "stdout"
        }
      ]
    },
    {
      "cell_type": "code",
      "metadata": {
        "colab": {
          "base_uri": "https://localhost:8080/"
        },
        "id": "HlBfjeC4INFQ",
        "outputId": "60b1c7c5-bd71-4e9f-8696-f2632d9e45da"
      },
      "source": [
        "# Generate test classification dataset: Binary (2 classes)\n",
        "\n",
        "from sklearn.datasets import make_classification\n",
        "\n",
        "# define dataset\n",
        "X, y = make_classification(n_samples=1000, n_features=20, n_informative=15, n_redundant=5, random_state=77)\n",
        "\n",
        "# summarize the dataset\n",
        "print(X.shape, y.shape)"
      ],
      "execution_count": 16,
      "outputs": [
        {
          "output_type": "stream",
          "text": [
            "(1000, 20) (1000,)\n"
          ],
          "name": "stdout"
        }
      ]
    },
    {
      "cell_type": "code",
      "metadata": {
        "colab": {
          "base_uri": "https://localhost:8080/"
        },
        "id": "5k1GhOzsNXca",
        "outputId": "eb3e96d8-74f3-4482-a498-6f6f9c17bfad"
      },
      "source": [
        "print(\"Labels:\", y[0:10])"
      ],
      "execution_count": 24,
      "outputs": [
        {
          "output_type": "stream",
          "text": [
            "Labels: [1 1 0 0 1 0 0 0 1 0]\n"
          ],
          "name": "stdout"
        }
      ]
    },
    {
      "cell_type": "markdown",
      "metadata": {
        "id": "VLF7lXhsJlxn"
      },
      "source": [
        "Classification using Random Forests:"
      ]
    },
    {
      "cell_type": "code",
      "metadata": {
        "colab": {
          "base_uri": "https://localhost:8080/"
        },
        "id": "FwUz3521I-ni",
        "outputId": "3d0ea5d6-d717-4afb-8d64-ce148c7f5f5f"
      },
      "source": [
        "# evaluate random forest algorithm for classification\n",
        "\n",
        "from numpy import mean\n",
        "from numpy import std\n",
        "\n",
        "from sklearn.model_selection import cross_val_score\n",
        "from sklearn.model_selection import RepeatedStratifiedKFold\n",
        "from sklearn.ensemble import RandomForestClassifier\n",
        "\n",
        "# define the model\n",
        "model = RandomForestClassifier(n_estimators=200)\n",
        "\n",
        "# evaluate the model\n",
        "cv = RepeatedStratifiedKFold(n_splits=10, n_repeats=3, random_state=77)\n",
        "\n",
        "n_scores = cross_val_score(model, X, y, scoring='accuracy', cv=cv, n_jobs=-1, error_score='raise')\n",
        "\n",
        "# report performance\n",
        "print('Accuracy: %.3f (SD: %.3f)' % (mean(n_scores), std(n_scores)))"
      ],
      "execution_count": 7,
      "outputs": [
        {
          "output_type": "stream",
          "text": [
            "Accuracy: 0.896 (0.024)\n"
          ],
          "name": "stdout"
        }
      ]
    },
    {
      "cell_type": "markdown",
      "metadata": {
        "id": "IZ2QPXFPLhom"
      },
      "source": [
        "### Overall code to get PREDICTION from Random Forests\n",
        "Classification Model with 200 Trees"
      ]
    },
    {
      "cell_type": "code",
      "metadata": {
        "colab": {
          "base_uri": "https://localhost:8080/"
        },
        "id": "ZrGXATG8JUPv",
        "outputId": "a9192b81-f7cf-4f67-9d72-794989a19652"
      },
      "source": [
        "# make predictions using random forest for classification\n",
        "from sklearn.datasets import make_classification\n",
        "from sklearn.ensemble import RandomForestClassifier\n",
        "\n",
        "# define dataset\n",
        "X, y = make_classification(n_samples=1000, n_features=20, n_informative=15, n_redundant=5, random_state=9)\n",
        "\n",
        "# define the model\n",
        "model = RandomForestClassifier()\n",
        "\n",
        "# fit the model on the whole dataset\n",
        "model.fit(X, y)\n",
        "\n",
        "# make a single prediction\n",
        "# row with 20 features\n",
        "row = [[-8.52381793,5.24451077,-12.14967704,-2.92949242,0.99314133,0.67326595,-0.38657932,1.27955683,-0.60712621,3.20807316,0.60504151,-1.38706415,8.92444588,-7.43027595,-2.33653219,1.10358169,0.21547782,1.05057966,0.6975331,0.26076035]]\n",
        "\n",
        "yhat = model.predict(row)\n",
        "\n",
        "print('Predicted Class: %d' % yhat[0])"
      ],
      "execution_count": 12,
      "outputs": [
        {
          "output_type": "stream",
          "text": [
            "Predicted Class: 1\n"
          ],
          "name": "stdout"
        }
      ]
    },
    {
      "cell_type": "markdown",
      "metadata": {
        "id": "RnhMBCcaMLJz"
      },
      "source": [
        "Regression using Random Forests:"
      ]
    },
    {
      "cell_type": "code",
      "metadata": {
        "colab": {
          "base_uri": "https://localhost:8080/"
        },
        "id": "F3UQCDZtL2da",
        "outputId": "0e19fd90-a27c-4fd2-a0f9-aa4623064156"
      },
      "source": [
        "# Generate test regression dataset\n",
        "from sklearn.datasets import make_regression\n",
        "\n",
        "# define dataset\n",
        "X, y = make_regression(n_samples=1000, n_features=20, n_informative=15, noise=0.1, random_state=77)\n",
        "\n",
        "# summarize the dataset\n",
        "print(X.shape, y.shape)"
      ],
      "execution_count": 31,
      "outputs": [
        {
          "output_type": "stream",
          "text": [
            "(1000, 20) (1000,)\n"
          ],
          "name": "stdout"
        }
      ]
    },
    {
      "cell_type": "code",
      "metadata": {
        "colab": {
          "base_uri": "https://localhost:8080/",
          "height": 320
        },
        "id": "KX1hMIJ4MUXo",
        "outputId": "27e9e15a-fb6a-46b1-8fc0-e53b88d0a617"
      },
      "source": [
        "import pandas as pd\n",
        "\n",
        "pd.DataFrame(X).describe()"
      ],
      "execution_count": 32,
      "outputs": [
        {
          "output_type": "execute_result",
          "data": {
            "text/html": [
              "<div>\n",
              "<style scoped>\n",
              "    .dataframe tbody tr th:only-of-type {\n",
              "        vertical-align: middle;\n",
              "    }\n",
              "\n",
              "    .dataframe tbody tr th {\n",
              "        vertical-align: top;\n",
              "    }\n",
              "\n",
              "    .dataframe thead th {\n",
              "        text-align: right;\n",
              "    }\n",
              "</style>\n",
              "<table border=\"1\" class=\"dataframe\">\n",
              "  <thead>\n",
              "    <tr style=\"text-align: right;\">\n",
              "      <th></th>\n",
              "      <th>0</th>\n",
              "      <th>1</th>\n",
              "      <th>2</th>\n",
              "      <th>3</th>\n",
              "      <th>4</th>\n",
              "      <th>5</th>\n",
              "      <th>6</th>\n",
              "      <th>7</th>\n",
              "      <th>8</th>\n",
              "      <th>9</th>\n",
              "      <th>10</th>\n",
              "      <th>11</th>\n",
              "      <th>12</th>\n",
              "      <th>13</th>\n",
              "      <th>14</th>\n",
              "      <th>15</th>\n",
              "      <th>16</th>\n",
              "      <th>17</th>\n",
              "      <th>18</th>\n",
              "      <th>19</th>\n",
              "    </tr>\n",
              "  </thead>\n",
              "  <tbody>\n",
              "    <tr>\n",
              "      <th>count</th>\n",
              "      <td>1000.000000</td>\n",
              "      <td>1000.000000</td>\n",
              "      <td>1000.000000</td>\n",
              "      <td>1000.000000</td>\n",
              "      <td>1000.000000</td>\n",
              "      <td>1000.000000</td>\n",
              "      <td>1000.000000</td>\n",
              "      <td>1000.000000</td>\n",
              "      <td>1000.000000</td>\n",
              "      <td>1000.000000</td>\n",
              "      <td>1000.000000</td>\n",
              "      <td>1000.000000</td>\n",
              "      <td>1000.000000</td>\n",
              "      <td>1000.000000</td>\n",
              "      <td>1000.000000</td>\n",
              "      <td>1000.000000</td>\n",
              "      <td>1000.000000</td>\n",
              "      <td>1000.000000</td>\n",
              "      <td>1000.000000</td>\n",
              "      <td>1000.000000</td>\n",
              "    </tr>\n",
              "    <tr>\n",
              "      <th>mean</th>\n",
              "      <td>0.001680</td>\n",
              "      <td>0.047861</td>\n",
              "      <td>0.042808</td>\n",
              "      <td>0.071955</td>\n",
              "      <td>-0.000820</td>\n",
              "      <td>0.039463</td>\n",
              "      <td>0.061421</td>\n",
              "      <td>-0.000722</td>\n",
              "      <td>-0.022747</td>\n",
              "      <td>-0.012499</td>\n",
              "      <td>-0.007010</td>\n",
              "      <td>-0.053479</td>\n",
              "      <td>-0.006119</td>\n",
              "      <td>-0.031879</td>\n",
              "      <td>-0.019487</td>\n",
              "      <td>-0.036208</td>\n",
              "      <td>-0.002341</td>\n",
              "      <td>-0.026358</td>\n",
              "      <td>-0.047083</td>\n",
              "      <td>0.000396</td>\n",
              "    </tr>\n",
              "    <tr>\n",
              "      <th>std</th>\n",
              "      <td>1.010132</td>\n",
              "      <td>1.003630</td>\n",
              "      <td>0.973507</td>\n",
              "      <td>0.978180</td>\n",
              "      <td>1.031268</td>\n",
              "      <td>1.010109</td>\n",
              "      <td>1.015928</td>\n",
              "      <td>1.009602</td>\n",
              "      <td>0.987956</td>\n",
              "      <td>1.011752</td>\n",
              "      <td>1.023893</td>\n",
              "      <td>0.986319</td>\n",
              "      <td>0.994881</td>\n",
              "      <td>1.001909</td>\n",
              "      <td>0.992683</td>\n",
              "      <td>0.965033</td>\n",
              "      <td>1.000694</td>\n",
              "      <td>1.038032</td>\n",
              "      <td>1.019816</td>\n",
              "      <td>1.033563</td>\n",
              "    </tr>\n",
              "    <tr>\n",
              "      <th>min</th>\n",
              "      <td>-3.685407</td>\n",
              "      <td>-3.661560</td>\n",
              "      <td>-3.186224</td>\n",
              "      <td>-3.078953</td>\n",
              "      <td>-3.431684</td>\n",
              "      <td>-3.480617</td>\n",
              "      <td>-3.670200</td>\n",
              "      <td>-3.069654</td>\n",
              "      <td>-2.983639</td>\n",
              "      <td>-3.713060</td>\n",
              "      <td>-2.987770</td>\n",
              "      <td>-3.456672</td>\n",
              "      <td>-3.403492</td>\n",
              "      <td>-3.223274</td>\n",
              "      <td>-3.102498</td>\n",
              "      <td>-3.241268</td>\n",
              "      <td>-3.067751</td>\n",
              "      <td>-3.450430</td>\n",
              "      <td>-3.331612</td>\n",
              "      <td>-2.742895</td>\n",
              "    </tr>\n",
              "    <tr>\n",
              "      <th>25%</th>\n",
              "      <td>-0.663656</td>\n",
              "      <td>-0.650605</td>\n",
              "      <td>-0.594045</td>\n",
              "      <td>-0.654148</td>\n",
              "      <td>-0.665691</td>\n",
              "      <td>-0.649503</td>\n",
              "      <td>-0.601936</td>\n",
              "      <td>-0.639096</td>\n",
              "      <td>-0.695635</td>\n",
              "      <td>-0.691588</td>\n",
              "      <td>-0.732475</td>\n",
              "      <td>-0.735897</td>\n",
              "      <td>-0.714814</td>\n",
              "      <td>-0.685395</td>\n",
              "      <td>-0.697103</td>\n",
              "      <td>-0.677779</td>\n",
              "      <td>-0.668926</td>\n",
              "      <td>-0.708870</td>\n",
              "      <td>-0.755766</td>\n",
              "      <td>-0.696134</td>\n",
              "    </tr>\n",
              "    <tr>\n",
              "      <th>50%</th>\n",
              "      <td>0.022089</td>\n",
              "      <td>0.047379</td>\n",
              "      <td>0.036484</td>\n",
              "      <td>0.080475</td>\n",
              "      <td>-0.048993</td>\n",
              "      <td>0.023088</td>\n",
              "      <td>0.064363</td>\n",
              "      <td>-0.024170</td>\n",
              "      <td>-0.030177</td>\n",
              "      <td>-0.029074</td>\n",
              "      <td>-0.020065</td>\n",
              "      <td>-0.051578</td>\n",
              "      <td>0.027672</td>\n",
              "      <td>-0.039845</td>\n",
              "      <td>-0.003084</td>\n",
              "      <td>-0.048329</td>\n",
              "      <td>-0.027257</td>\n",
              "      <td>-0.031991</td>\n",
              "      <td>-0.064566</td>\n",
              "      <td>0.008449</td>\n",
              "    </tr>\n",
              "    <tr>\n",
              "      <th>75%</th>\n",
              "      <td>0.708693</td>\n",
              "      <td>0.728104</td>\n",
              "      <td>0.661573</td>\n",
              "      <td>0.757107</td>\n",
              "      <td>0.683045</td>\n",
              "      <td>0.718467</td>\n",
              "      <td>0.748773</td>\n",
              "      <td>0.695651</td>\n",
              "      <td>0.636253</td>\n",
              "      <td>0.689483</td>\n",
              "      <td>0.670109</td>\n",
              "      <td>0.621787</td>\n",
              "      <td>0.638292</td>\n",
              "      <td>0.651914</td>\n",
              "      <td>0.678319</td>\n",
              "      <td>0.632027</td>\n",
              "      <td>0.676456</td>\n",
              "      <td>0.690135</td>\n",
              "      <td>0.638493</td>\n",
              "      <td>0.670833</td>\n",
              "    </tr>\n",
              "    <tr>\n",
              "      <th>max</th>\n",
              "      <td>3.438819</td>\n",
              "      <td>3.368433</td>\n",
              "      <td>2.934838</td>\n",
              "      <td>3.083221</td>\n",
              "      <td>3.667760</td>\n",
              "      <td>3.808858</td>\n",
              "      <td>3.561689</td>\n",
              "      <td>3.309026</td>\n",
              "      <td>3.080305</td>\n",
              "      <td>3.649842</td>\n",
              "      <td>2.902940</td>\n",
              "      <td>3.600465</td>\n",
              "      <td>2.857753</td>\n",
              "      <td>3.556902</td>\n",
              "      <td>2.914743</td>\n",
              "      <td>3.900589</td>\n",
              "      <td>4.073159</td>\n",
              "      <td>2.613220</td>\n",
              "      <td>3.060280</td>\n",
              "      <td>3.448056</td>\n",
              "    </tr>\n",
              "  </tbody>\n",
              "</table>\n",
              "</div>"
            ],
            "text/plain": [
              "                0            1   ...           18           19\n",
              "count  1000.000000  1000.000000  ...  1000.000000  1000.000000\n",
              "mean      0.001680     0.047861  ...    -0.047083     0.000396\n",
              "std       1.010132     1.003630  ...     1.019816     1.033563\n",
              "min      -3.685407    -3.661560  ...    -3.331612    -2.742895\n",
              "25%      -0.663656    -0.650605  ...    -0.755766    -0.696134\n",
              "50%       0.022089     0.047379  ...    -0.064566     0.008449\n",
              "75%       0.708693     0.728104  ...     0.638493     0.670833\n",
              "max       3.438819     3.368433  ...     3.060280     3.448056\n",
              "\n",
              "[8 rows x 20 columns]"
            ]
          },
          "metadata": {
            "tags": []
          },
          "execution_count": 32
        }
      ]
    },
    {
      "cell_type": "code",
      "metadata": {
        "colab": {
          "base_uri": "https://localhost:8080/"
        },
        "id": "FRLQFMYOMjXI",
        "outputId": "d1baac46-0588-4bed-c12a-f19e6b28c5f1"
      },
      "source": [
        "print(\"Labels:\", y[0:5])"
      ],
      "execution_count": 33,
      "outputs": [
        {
          "output_type": "stream",
          "text": [
            "Labels: [ 222.53747118   42.24564042  -23.47820771 -182.73759726    5.59466015]\n"
          ],
          "name": "stdout"
        }
      ]
    },
    {
      "cell_type": "code",
      "metadata": {
        "colab": {
          "base_uri": "https://localhost:8080/"
        },
        "id": "WjrKjhkNN3Ez",
        "outputId": "29f3b116-fefc-48a6-f9b1-37380ac84832"
      },
      "source": [
        "# evaluate random forest ensemble for regression\n",
        "from numpy import mean\n",
        "from numpy import std\n",
        "\n",
        "from sklearn.model_selection import cross_val_score\n",
        "from sklearn.model_selection import RepeatedKFold\n",
        "from sklearn.ensemble import RandomForestRegressor\n",
        "\n",
        "# define the model\n",
        "\n",
        "model = RandomForestRegressor(n_estimators=200)\n",
        "\n",
        "# evaluate the model\n",
        "cv = RepeatedKFold(n_splits=10, n_repeats=3, random_state=1)\n",
        "n_scores = cross_val_score(model, X, y, scoring='neg_mean_absolute_error', cv=cv, n_jobs=-1, error_score='raise')\n",
        "\n",
        "# report performance\n",
        "print('Mean Absolute Error: %.3f (SD: %.3f)' % (mean(n_scores), std(n_scores)))"
      ],
      "execution_count": 34,
      "outputs": [
        {
          "output_type": "stream",
          "text": [
            "Mean Absolute Error: -114.367 (SD: 7.097)\n"
          ],
          "name": "stdout"
        }
      ]
    },
    {
      "cell_type": "markdown",
      "metadata": {
        "id": "v32zVenAPL_e"
      },
      "source": [
        "### Overall code to get PREDICTION from Random Forests\n",
        "Regression Model with 200 Trees"
      ]
    },
    {
      "cell_type": "code",
      "metadata": {
        "colab": {
          "base_uri": "https://localhost:8080/"
        },
        "id": "Ji-VzwsSOKBM",
        "outputId": "8da42bc5-9407-4959-a615-cfb8d3d23c78"
      },
      "source": [
        "# random forest for making predictions for regression\n",
        "from sklearn.datasets import make_regression\n",
        "from sklearn.ensemble import RandomForestRegressor\n",
        "\n",
        "# define dataset\n",
        "X, y = make_regression(n_samples=1000, n_features=20, n_informative=15, noise=0.1, random_state=9)\n",
        "\n",
        "# define the model\n",
        "model = RandomForestRegressor(n_estimators=200)\n",
        "\n",
        "# fit the model on the whole dataset\n",
        "model.fit(X, y)\n",
        "\n",
        "# make a single prediction\n",
        "# row with 20 features\n",
        "\n",
        "row = [[-0.89483109,-1.0670149,-0.25448694,-0.53850126,0.21082105,1.37435592,0.71203659,0.73093031,-1.25878104,-2.01656886,0.51906798,0.62767387,0.96250155,1.31410617,-1.25527295,-0.85079036,0.24129757,-0.17571721,-1.11454339,0.36268268]]\n",
        "\n",
        "yhat = model.predict(row)\n",
        "\n",
        "print('Prediction: %d' % yhat[0])"
      ],
      "execution_count": 39,
      "outputs": [
        {
          "output_type": "stream",
          "text": [
            "Prediction: 5\n"
          ],
          "name": "stdout"
        }
      ]
    },
    {
      "cell_type": "code",
      "metadata": {
        "id": "NnpssczsPDvW"
      },
      "source": [
        ""
      ],
      "execution_count": null,
      "outputs": []
    }
  ]
}